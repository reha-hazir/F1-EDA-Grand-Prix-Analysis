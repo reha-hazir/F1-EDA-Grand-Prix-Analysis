{
 "cells": [
  {
   "cell_type": "code",
   "execution_count": 27,
   "metadata": {},
   "outputs": [],
   "source": [
    "import sqlite3\n",
    "\n",
    "# Connect to the SQLite database containing datasets\n",
    "conn = sqlite3.connect('my_database.db')\n",
    "\n",
    "# Create a cursor object\n",
    "cursor = conn.cursor()"
   ]
  },
  {
   "attachments": {},
   "cell_type": "markdown",
   "metadata": {},
   "source": [
    "**SQL-Q1-What is the total number of drivers in the drivers dataset?**"
   ]
  },
  {
   "cell_type": "code",
   "execution_count": 28,
   "metadata": {},
   "outputs": [
    {
     "name": "stdout",
     "output_type": "stream",
     "text": [
      "Total number of drivers: 857\n"
     ]
    }
   ],
   "source": [
    "# Execute an SQL query to count the number of drivers in the drivers table\n",
    "cursor.execute('SELECT COUNT(*) FROM drivers')\n",
    "\n",
    "# Fetch the result of the query\n",
    "result = cursor.fetchone()\n",
    "\n",
    "# Print the total number of drivers\n",
    "print(\"Total number of drivers:\", result[0])"
   ]
  },
  {
   "attachments": {},
   "cell_type": "markdown",
   "metadata": {},
   "source": [
    "**SQL-Q2-Which constructor has won the most races?**"
   ]
  },
  {
   "cell_type": "code",
   "execution_count": 30,
   "metadata": {
    "vscode": {
     "languageId": "sql"
    }
   },
   "outputs": [
    {
     "name": "stdout",
     "output_type": "stream",
     "text": [
      "Ferrari 243\n",
      "McLaren 179\n",
      "Mercedes 125\n",
      "Williams 114\n",
      "Red Bull 92\n",
      "Team Lotus 45\n",
      "Renault 35\n",
      "Benetton 27\n",
      "Tyrrell 23\n",
      "Brabham 23\n",
      "Lotus-Climax 22\n",
      "BRM 17\n",
      "Cooper-Climax 12\n",
      "Lotus-Ford 11\n",
      "Alfa Romeo 11\n",
      "Vanwall 10\n",
      "Matra-Ford 9\n",
      "Maserati 9\n",
      "Ligier 9\n",
      "Brawn 8\n",
      "Brabham-Repco 8\n",
      "Kurtis Kraft 5\n",
      "McLaren-Ford 4\n",
      "Jordan 4\n",
      "Wolf 3\n",
      "Watson 3\n",
      "March 3\n",
      "Honda 3\n",
      "Lotus F1 2\n",
      "Epperly 2\n",
      "Cooper-Maserati 2\n",
      "Cooper 2\n",
      "Brabham-Ford 2\n",
      "Brabham-Climax 2\n",
      "Toro Rosso 1\n",
      "Stewart 1\n",
      "Shadow 1\n",
      "Racing Point 1\n",
      "Porsche 1\n",
      "Penske 1\n",
      "Lotus-BRM 1\n",
      "Kuzma 1\n",
      "Hesketh 1\n",
      "Eagle-Weslake 1\n",
      "BMW Sauber 1\n",
      "Alpine F1 Team 1\n",
      "AlphaTauri 1\n"
     ]
    }
   ],
   "source": [
    "\n",
    "# Execute the SQL query to count the number of races for each constructor\n",
    "cursor.execute('''SELECT constructors.name, COUNT(*) AS wins\n",
    "                  FROM results\n",
    "                  JOIN constructors ON results.constructorId = constructors.constructorId\n",
    "                  WHERE results.position = 1\n",
    "                  GROUP BY constructors.name\n",
    "                  ORDER BY wins DESC''')\n",
    "\n",
    "# Fetch the results of the query\n",
    "results = cursor.fetchall()\n",
    "\n",
    "# Print the results\n",
    "for row in results:\n",
    "    print(row[0], row[1])\n",
    "\n"
   ]
  },
  {
   "attachments": {},
   "cell_type": "markdown",
   "metadata": {},
   "source": [
    "**SQL-Q3-Which drivers have the most podiums**"
   ]
  },
  {
   "cell_type": "code",
   "execution_count": 31,
   "metadata": {
    "vscode": {
     "languageId": "sql"
    }
   },
   "outputs": [
    {
     "name": "stdout",
     "output_type": "stream",
     "text": [
      "Hamilton Lewis 191\n",
      "Schumacher Michael 155\n",
      "Vettel Sebastian 122\n",
      "Prost Alain 106\n",
      "Räikkönen Kimi 103\n"
     ]
    }
   ],
   "source": [
    "\n",
    "cursor.execute('''SELECT drivers.surname || ' ' || drivers.forename AS driver_name, COUNT(*) AS podiums\n",
    "FROM results\n",
    "JOIN drivers ON results.driverId = drivers.driverId\n",
    "WHERE results.position IN (1, 2, 3)\n",
    "GROUP BY driver_name\n",
    "ORDER BY podiums DESC\n",
    "LIMIT 5;''')\n",
    "\n",
    "results = cursor.fetchall()\n",
    "\n",
    "for row in results:\n",
    "    print(row[0], row[1])\n"
   ]
  },
  {
   "attachments": {},
   "cell_type": "markdown",
   "metadata": {},
   "source": [
    "**SQL-Q4-Which constructorst have the maximum points in each year?**"
   ]
  },
  {
   "cell_type": "code",
   "execution_count": 42,
   "metadata": {
    "vscode": {
     "languageId": "sql"
    }
   },
   "outputs": [
    {
     "name": "stdout",
     "output_type": "stream",
     "text": [
      "2023 Alfa Romeo 0\n",
      "2022 Alpine F1 Team 99\n",
      "2021 Alpine F1 Team 95\n",
      "2020 Renault 99\n",
      "2019 Ferrari 99\n",
      "2018 Haas F1 Team 93\n",
      "2017 Mercedes 99\n",
      "2016 Williams 96\n",
      "2015 Red Bull 96\n",
      "2014 Red Bull 99\n",
      "2013 McLaren 95\n",
      "2012 Force India 99\n",
      "2011 Mercedes 98\n",
      "2010 Renault 96\n",
      "2009 Red Bull 98.5\n",
      "2008 Ferrari 96\n",
      "2007 BMW Sauber 94\n",
      "2006 McLaren 97\n",
      "2005 Ferrari 98\n",
      "2004 Renault 96\n",
      "2003 Ferrari 95\n",
      "2002 Williams 92\n",
      "2001 McLaren 95\n",
      "2000 McLaren 98\n",
      "1999 Ferrari 97\n",
      "1998 Ferrari 92\n",
      "1997 Williams 98\n",
      "1996 Benetton 9\n",
      "1995 Williams 98\n",
      "1994 Benetton 97\n",
      "1993 Williams 95\n",
      "1992 McLaren 99\n",
      "1991 McLaren 99\n",
      "1990 McLaren 96\n",
      "1989 McLaren 98\n",
      "1988 McLaren 93\n",
      "1987 Williams 93\n",
      "1986 McLaren 96\n",
      "1985 McLaren 90\n",
      "1984 McLaren 92.5\n",
      "1983 Brabham 9\n",
      "1982 Team Lotus 9\n",
      "1981 Williams 95\n",
      "1980 Williams 90\n",
      "1979 Ferrari 95\n",
      "1978 Team Lotus 9\n",
      "1977 Ferrari 95\n",
      "1976 Ferrari 9\n",
      "1975 Shadow-Ford 9.5\n",
      "1974 McLaren 9\n",
      "1973 Team Lotus 92\n",
      "1972 Tyrrell 9\n",
      "1971 Ferrari 9\n",
      "1970 Brabham 9\n",
      "1969 Matra-Ford 9\n",
      "1968 Lotus-Ford 9\n",
      "1967 Cooper-Maserati 9\n",
      "1966 BRM 9\n",
      "1965 Lotus-Climax 9\n",
      "1964 BRM 9\n",
      "1963 BRM 9\n",
      "1962 BRM 9\n",
      "1961 Lotus-Climax 9\n",
      "1960 Team Lotus 9\n",
      "1959 BRM 8\n",
      "1958 Vanwall 8\n"
     ]
    }
   ],
   "source": [
    "cursor.execute('''SELECT r.year, c.name AS constructor_name, MAX(cs.points) AS max_points\n",
    "FROM constructor_standings cs\n",
    "JOIN races r ON cs.raceId = r.raceId\n",
    "JOIN constructors c ON cs.constructorId = c.constructorId\n",
    "GROUP BY r.year\n",
    "ORDER BY r.year DESC;\n",
    "''')\n",
    "\n",
    "results = cursor.fetchall()\n",
    "\n",
    "for row in results:\n",
    "    print(row[0], row[1], row[2])"
   ]
  },
  {
   "attachments": {},
   "cell_type": "markdown",
   "metadata": {},
   "source": [
    "**SQL-Q5-Which constructors have the most consecutive wins? ( That is, has at least 1 winning race at that year )**"
   ]
  },
  {
   "cell_type": "code",
   "execution_count": 54,
   "metadata": {
    "vscode": {
     "languageId": "sql"
    }
   },
   "outputs": [
    {
     "name": "stdout",
     "output_type": "stream",
     "text": [
      "Ferrari 25\n",
      "McLaren 22\n",
      "Williams 11\n",
      "Mercedes 8\n",
      "Red Bull 6\n",
      "Team Lotus 5\n",
      "Renault 5\n",
      "Lotus-Climax 3\n",
      "BRM 3\n",
      "Tyrrell 2\n",
      "Cooper-Climax 2\n",
      "Brabham-Repco 2\n",
      "Benetton 2\n",
      "Vanwall 1\n",
      "Matra-Ford 1\n",
      "March 1\n",
      "Lotus-Ford 1\n",
      "Ligier 1\n",
      "Cooper 1\n",
      "Brawn 1\n",
      "Brabham 1\n",
      "Alfa Romeo 1\n"
     ]
    }
   ],
   "source": [
    "cursor.execute('''SELECT c.name AS constructor_name, COUNT(DISTINCT r.year) AS consecutive_wins\n",
    "FROM constructor_standings cs1\n",
    "JOIN constructors c ON cs1.constructorId = c.constructorId\n",
    "JOIN races r ON cs1.raceId = r.raceId\n",
    "WHERE cs1.position = 1\n",
    "AND NOT EXISTS (\n",
    "    SELECT 1\n",
    "    FROM constructor_standings cs2\n",
    "    WHERE cs2.constructorId = cs1.constructorId\n",
    "    AND cs2.position != 1\n",
    "    AND cs2.raceId = cs1.raceId + 1\n",
    ")\n",
    "GROUP BY c.name\n",
    "ORDER BY consecutive_wins DESC;\n",
    "\n",
    "''')\n",
    "\n",
    "results = cursor.fetchall()\n",
    "\n",
    "for row in results:\n",
    "    print(row[0], row[1])"
   ]
  },
  {
   "attachments": {},
   "cell_type": "markdown",
   "metadata": {},
   "source": [
    "**SQL-Q6-What is the average lap time of all drivers during the 2018 Monaco Grand Prix?**"
   ]
  },
  {
   "cell_type": "code",
   "execution_count": 57,
   "metadata": {},
   "outputs": [
    {
     "name": "stdout",
     "output_type": "stream",
     "text": [
      "[(79857.7495042961,)]\n"
     ]
    }
   ],
   "source": [
    "cursor.execute('''SELECT AVG(lap_time) AS average_lap_time\n",
    "FROM (\n",
    "    SELECT AVG(milliseconds) AS lap_time\n",
    "    FROM lap_times lt\n",
    "    JOIN races r ON lt.raceId = r.raceId\n",
    "    WHERE r.year = 2018 AND r.name = 'Monaco Grand Prix'\n",
    "    GROUP BY lt.driverId, lt.lap\n",
    ") AS subquery;\n",
    "\n",
    "''')\n",
    "\n",
    "results = cursor.fetchall()\n",
    "\n",
    "print(results)"
   ]
  }
 ],
 "metadata": {
  "kernelspec": {
   "display_name": "Python 3",
   "language": "python",
   "name": "python3"
  },
  "language_info": {
   "codemirror_mode": {
    "name": "ipython",
    "version": 3
   },
   "file_extension": ".py",
   "mimetype": "text/x-python",
   "name": "python",
   "nbconvert_exporter": "python",
   "pygments_lexer": "ipython3",
   "version": "3.11.1"
  },
  "orig_nbformat": 4,
  "vscode": {
   "interpreter": {
    "hash": "aee8b7b246df8f9039afb4144a1f6fd8d2ca17a180786b69acc140d282b71a49"
   }
  }
 },
 "nbformat": 4,
 "nbformat_minor": 2
}
